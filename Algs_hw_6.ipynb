{
  "nbformat": 4,
  "nbformat_minor": 0,
  "metadata": {
    "colab": {
      "name": "Algs hw 6",
      "provenance": [],
      "authorship_tag": "ABX9TyPfMZyixPZL5poV4QbX5Eee",
      "include_colab_link": true
    },
    "kernelspec": {
      "name": "python3",
      "display_name": "Python 3"
    }
  },
  "cells": [
    {
      "cell_type": "markdown",
      "metadata": {
        "id": "view-in-github",
        "colab_type": "text"
      },
      "source": [
        "<a href=\"https://colab.research.google.com/github/isabellasims/notes-review-practice/blob/main/Algs_hw_6.ipynb\" target=\"_parent\"><img src=\"https://colab.research.google.com/assets/colab-badge.svg\" alt=\"Open In Colab\"/></a>"
      ]
    },
    {
      "cell_type": "code",
      "metadata": {
        "id": "4G5bno18sqhJ"
      },
      "source": [
        ""
      ],
      "execution_count": null,
      "outputs": []
    },
    {
      "cell_type": "markdown",
      "metadata": {
        "id": "g7QUd5GEB7dJ"
      },
      "source": [
        "CSC420: Algorithms & Data Structures Fall 2020\n",
        "Homework #6 (7 Points) \n",
        "\n",
        "\n",
        "Part A): Creating Hash table\n",
        "1. Given a hash table of size 35, create a hash table with 32 AU/CS students’ IDs (5 digits ID), using division hash function with largest prime# <= hash table size and Linear probing for Overflow/Collision handling.\n",
        "\n",
        "After creating the hash table, print the average number of probing in creating the hash table.\n",
        "\n",
        "2. Search for a Key in the hash table (try 4 different keys). Print appropriate messages (key found, or key does not exist in the hash table.\n",
        "\n",
        "Also, after the searches, print the average number of probing.\n",
        "\n",
        "Part B): Repeat Part A with Hash table size of 50.\n",
        "\n",
        "(Use the same 32 students as in Part A) &\n",
        "(Use the same 4 keys for searching as in section 2 of Part A).\n",
        "\n",
        "Does the increase in hash table size decrease the number of probing?\n",
        "Explain Your findings.\n",
        "\n",
        "\n",
        "++++++++++++++++++++++++++++++++++++++++++++++++++++++\n",
        "Provide, Nice, Informative Outputs to show the significance of this\n",
        "experiment."
      ]
    },
    {
      "cell_type": "markdown",
      "metadata": {
        "id": "pcRPGXH_ssqE"
      },
      "source": [
        "Part 1\n",
        "- turn in as sims.py for program\n",
        "- implimenting a hash table\n",
        "- randomly create 5 digits so there is no bias\n",
        "- use division method\n",
        "- table size = 35\n",
        "\n",
        "Hypothesis: The bigger the hash table size, the lower the probe is\n",
        "--> search less because you have more space to look for & find available\n",
        "\n",
        "Print avg number of probing\n",
        "- count all prob then divide by 32"
      ]
    },
    {
      "cell_type": "markdown",
      "metadata": {
        "id": "aVnJ7D4sto9d"
      },
      "source": [
        "part 2\n",
        "\n",
        "- now search for item\n",
        "- try 4 different keys\n",
        "- randomly create and choose them\n",
        "- Should be same at pt 1 except size will be 50 w a different probing\n",
        "\n",
        "\n",
        "- At end: do analysis --> does the increase in size decrease num of probing? explain!"
      ]
    }
  ]
}