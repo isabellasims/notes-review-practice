{
  "nbformat": 4,
  "nbformat_minor": 0,
  "metadata": {
    "colab": {
      "name": "Hash Tables",
      "provenance": [],
      "authorship_tag": "ABX9TyO14+cJAD5g/l5oE4SHbRhc",
      "include_colab_link": true
    },
    "kernelspec": {
      "name": "python3",
      "display_name": "Python 3"
    }
  },
  "cells": [
    {
      "cell_type": "markdown",
      "metadata": {
        "id": "view-in-github",
        "colab_type": "text"
      },
      "source": [
        "<a href=\"https://colab.research.google.com/github/isabellasims/notes-review-practice/blob/main/Hash_Tables.ipynb\" target=\"_parent\"><img src=\"https://colab.research.google.com/assets/colab-badge.svg\" alt=\"Open In Colab\"/></a>"
      ]
    },
    {
      "cell_type": "code",
      "metadata": {
        "id": "sD1xlwuGU_n8"
      },
      "source": [
        ""
      ],
      "execution_count": null,
      "outputs": []
    },
    {
      "cell_type": "markdown",
      "metadata": {
        "id": "CHAtVna-WY35"
      },
      "source": [
        "https://www.tutorialspoint.com/python_data_structure/python_hash_table.htm"
      ]
    },
    {
      "cell_type": "markdown",
      "metadata": {
        "id": "r0Y0yI2fWn4g"
      },
      "source": [
        "- key value look-up for very quick look-ups\n",
        "- ex. someones name with information about them\n",
        "- Hash function: takes a string, converts to an int, and remaps it into an index\n",
        "  - so: string ---> hashcode ---> index\n",
        "- collisions:\n",
        "  - if 2 strings have the same hashcode"
      ]
    },
    {
      "cell_type": "markdown",
      "metadata": {
        "id": "9l7vhJW_YdxN"
      },
      "source": [
        "A hashtable is an implimentation of a dictionary \n",
        "\n",
        "- with a hash table, the keys are determined by a hash function\n",
        "\n"
      ]
    }
  ]
}