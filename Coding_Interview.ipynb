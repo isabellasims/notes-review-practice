{
  "nbformat": 4,
  "nbformat_minor": 0,
  "metadata": {
    "colab": {
      "name": "Coding Interview",
      "provenance": [],
      "authorship_tag": "ABX9TyNQasBZcuaVTnNBI/I6q82T",
      "include_colab_link": true
    },
    "kernelspec": {
      "name": "python3",
      "display_name": "Python 3"
    }
  },
  "cells": [
    {
      "cell_type": "markdown",
      "metadata": {
        "id": "view-in-github",
        "colab_type": "text"
      },
      "source": [
        "<a href=\"https://colab.research.google.com/github/isabellasims/notes-review-practice/blob/main/Coding_Interview.ipynb\" target=\"_parent\"><img src=\"https://colab.research.google.com/assets/colab-badge.svg\" alt=\"Open In Colab\"/></a>"
      ]
    },
    {
      "cell_type": "markdown",
      "metadata": {
        "id": "iZu4taDaJowO"
      },
      "source": [
        "challenges for any: \n",
        "- write pseudo code (algorithm)\n",
        "- determine time complexity\n",
        "- If time complex is n, find a better time coplexity if possible"
      ]
    },
    {
      "cell_type": "markdown",
      "metadata": {
        "id": "Su_99-oPIljQ"
      },
      "source": [
        "Reverse Words in a String\n",
        "\n",
        "challenge: do without any built in functions"
      ]
    },
    {
      "cell_type": "code",
      "metadata": {
        "id": "DltfS4uUIi84",
        "outputId": "f25fe3bb-f934-46a1-e7eb-8cea81a65120",
        "colab": {
          "base_uri": "https://localhost:8080/",
          "height": 35
        }
      },
      "source": [
        "def reverseStr(str):\n",
        "  temp = \"\"\n",
        "  index = str.index(str[-1])\n",
        "  for i in range(len(str)):\n",
        "    temp += str[index]\n",
        "    index -=1\n",
        "  return temp\n",
        "reverseStr(\"hello\")"
      ],
      "execution_count": null,
      "outputs": [
        {
          "output_type": "execute_result",
          "data": {
            "application/vnd.google.colaboratory.intrinsic+json": {
              "type": "string"
            },
            "text/plain": [
              "'olleh'"
            ]
          },
          "metadata": {
            "tags": []
          },
          "execution_count": 4
        }
      ]
    },
    {
      "cell_type": "markdown",
      "metadata": {
        "id": "2wuUqN4aJhUr"
      },
      "source": [
        "Isomorpic Strings\n",
        "\n",
        "egg add = true\n",
        "\n",
        "foo bar = false"
      ]
    },
    {
      "cell_type": "code",
      "metadata": {
        "id": "gZjhHlHiMjyV",
        "outputId": "78b74469-7a69-4f69-ce0d-67344b20bbb9",
        "colab": {
          "base_uri": "https://localhost:8080/"
        }
      },
      "source": [
        "# Time complexity: n^2 ---> no good\n",
        "def isIso(x,y):\n",
        "  if len(x) != len(y):\n",
        "    return False\n",
        "  for i in range(len(x)):\n",
        "    count = 0\n",
        "    # if character at i in x occurs the same amount of time as character at i in y\n",
        "    if x.count(x[i]) != y.count(y[i]):\n",
        "      return False\n",
        "  return True\n",
        "\n",
        "isIso(\"ladder\",\"bigger\")"
      ],
      "execution_count": 2,
      "outputs": [
        {
          "output_type": "execute_result",
          "data": {
            "text/plain": [
              "True"
            ]
          },
          "metadata": {
            "tags": []
          },
          "execution_count": 2
        }
      ]
    },
    {
      "cell_type": "markdown",
      "metadata": {
        "id": "X1MjueS4QyCG"
      },
      "source": [
        "Kth Largest Element in an Array\n",
        "\n",
        "\n",
        "\n"
      ]
    },
    {
      "cell_type": "code",
      "metadata": {
        "id": "_IAyXRqjQ1GT",
        "outputId": "c001b16f-953d-4971-fed1-2a8803cd6e55",
        "colab": {
          "base_uri": "https://localhost:8080/"
        }
      },
      "source": [
        "def kth_largest(k,array):\n",
        "  array.sort()  \n",
        "  return array[k-1]\n",
        "kth_largest(3,[-1,1,5,80,4,9,20])"
      ],
      "execution_count": null,
      "outputs": [
        {
          "output_type": "execute_result",
          "data": {
            "text/plain": [
              "4"
            ]
          },
          "metadata": {
            "tags": []
          },
          "execution_count": 26
        }
      ]
    },
    {
      "cell_type": "markdown",
      "metadata": {
        "id": "clbiGBy5l1Yl"
      },
      "source": [
        "Anagrams"
      ]
    },
    {
      "cell_type": "code",
      "metadata": {
        "id": "_QRR1_6-l2Z2"
      },
      "source": [
        "# Time complexity: n \n",
        "# I especially like this solution as it has the benefits a dictionarys time complexity without the overhead of coding the dictionary\n",
        "from collections import Counter\n",
        "def is_anagram(x, y):\n",
        "    return Counter(x) == Counter(y)\n",
        "is_anagram(\"add\", \"egg\")"
      ],
      "execution_count": null,
      "outputs": []
    }
  ]
}