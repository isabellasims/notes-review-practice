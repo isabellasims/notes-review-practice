{
  "nbformat": 4,
  "nbformat_minor": 0,
  "metadata": {
    "colab": {
      "name": "Coding Interview",
      "provenance": [],
      "authorship_tag": "ABX9TyOzsMO3z9wvKZQ9Fftj2YrA",
      "include_colab_link": true
    },
    "kernelspec": {
      "name": "python3",
      "display_name": "Python 3"
    }
  },
  "cells": [
    {
      "cell_type": "markdown",
      "metadata": {
        "id": "view-in-github",
        "colab_type": "text"
      },
      "source": [
        "<a href=\"https://colab.research.google.com/github/isabellasims/notes-review-practice/blob/main/Coding_Interview.ipynb\" target=\"_parent\"><img src=\"https://colab.research.google.com/assets/colab-badge.svg\" alt=\"Open In Colab\"/></a>"
      ]
    },
    {
      "cell_type": "markdown",
      "metadata": {
        "id": "Su_99-oPIljQ"
      },
      "source": [
        "Reverse Words in a String"
      ]
    },
    {
      "cell_type": "code",
      "metadata": {
        "id": "DltfS4uUIi84",
        "outputId": "f25fe3bb-f934-46a1-e7eb-8cea81a65120",
        "colab": {
          "base_uri": "https://localhost:8080/",
          "height": 35
        }
      },
      "source": [
        "def reverseStr(str):\n",
        "  temp = \"\"\n",
        "  index = str.index(str[-1])\n",
        "  for i in range(len(str)):\n",
        "    temp += str[index]\n",
        "    index -=1\n",
        "  return temp\n",
        "reverseStr(\"hello\")"
      ],
      "execution_count": 4,
      "outputs": [
        {
          "output_type": "execute_result",
          "data": {
            "application/vnd.google.colaboratory.intrinsic+json": {
              "type": "string"
            },
            "text/plain": [
              "'olleh'"
            ]
          },
          "metadata": {
            "tags": []
          },
          "execution_count": 4
        }
      ]
    }
  ]
}