{
  "nbformat": 4,
  "nbformat_minor": 0,
  "metadata": {
    "colab": {
      "name": "concepts",
      "provenance": [],
      "authorship_tag": "ABX9TyNKgdSBVvYrB59vQHKplSjB",
      "include_colab_link": true
    },
    "kernelspec": {
      "name": "python3",
      "display_name": "Python 3"
    }
  },
  "cells": [
    {
      "cell_type": "markdown",
      "metadata": {
        "id": "view-in-github",
        "colab_type": "text"
      },
      "source": [
        "<a href=\"https://colab.research.google.com/github/isabellasims/notes-review-practice/blob/main/concepts.ipynb\" target=\"_parent\"><img src=\"https://colab.research.google.com/assets/colab-badge.svg\" alt=\"Open In Colab\"/></a>"
      ]
    },
    {
      "cell_type": "code",
      "metadata": {
        "id": "-AJ_rIql7cyY"
      },
      "source": [
        ""
      ],
      "execution_count": null,
      "outputs": []
    },
    {
      "cell_type": "markdown",
      "metadata": {
        "id": "1bzBzDej7fml"
      },
      "source": [
        "**Containers**\n",
        "- https://www.youtube.com/watch?v=FWpnbGnzk08&feature=emb_title\n",
        "- Containers are a solution to the problem of how to get software to run reliably when moved from one computing environment to another. \n",
        "- This could be from a developer's laptop to a test environment, from a staging environment into production, and perhaps from a physical machine in a data center to a virtual machine in a private or public cloud.\n",
        "- before you could only use one app/OS for each server (you need a server for everyone)\n",
        "  - Now we can split up servers so they can host multiple apps -> but still only one app per OS\n",
        "  - CONTAINERS: allow you to host multiple apps one one server and multiple OS's on one server\n",
        "\n",
        "\n",
        "  **Containers VS VMs**\n",
        "- Explain the fundamental difference between virtualization using a VM and virtualization using a container.\n",
        "\n",
        "Virtualisation using a VM involves creating a full stack on top of the hypervisor\n",
        "including the operating system of the virtual machine. Consequently, each VM can use a\n",
        "different operating system. Containers are higher-level encapsulations that all run the same\n",
        "operating system. Because the operating system is a large piece of software, it takes time to load so it is much slower to create and run a VM than a container.\n"
      ]
    },
    {
      "cell_type": "markdown",
      "metadata": {
        "id": "y6qf0vCJHBUH"
      },
      "source": [
        "**> Explain the differences between synchronous and asynchronous microservices interaction.**\n",
        "\n",
        "- synchronous: A waits for B\n",
        "- asynchronous: A and B execute concurrently"
      ]
    }
  ]
}