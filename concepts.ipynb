{
  "nbformat": 4,
  "nbformat_minor": 0,
  "metadata": {
    "colab": {
      "name": "concepts",
      "provenance": [],
      "authorship_tag": "ABX9TyMvMcN+5jJVP6klK7NCsN56",
      "include_colab_link": true
    },
    "kernelspec": {
      "name": "python3",
      "display_name": "Python 3"
    }
  },
  "cells": [
    {
      "cell_type": "markdown",
      "metadata": {
        "id": "view-in-github",
        "colab_type": "text"
      },
      "source": [
        "<a href=\"https://colab.research.google.com/github/isabellasims/notes-review-practice/blob/main/concepts.ipynb\" target=\"_parent\"><img src=\"https://colab.research.google.com/assets/colab-badge.svg\" alt=\"Open In Colab\"/></a>"
      ]
    },
    {
      "cell_type": "code",
      "metadata": {
        "id": "-AJ_rIql7cyY"
      },
      "source": [
        ""
      ],
      "execution_count": null,
      "outputs": []
    },
    {
      "cell_type": "markdown",
      "metadata": {
        "id": "1bzBzDej7fml"
      },
      "source": [
        "**Containers**\n",
        "- https://www.youtube.com/watch?v=FWpnbGnzk08&feature=emb_title\n",
        "- Containers are a solution to the problem of how to get software to run reliably when moved from one computing environment to another. \n",
        "- This could be from a developer's laptop to a test environment, from a staging environment into production, and perhaps from a physical machine in a data center to a virtual machine in a private or public cloud.\n",
        "- before you could only use one app/OS for each server (you need a server for everyone)\n",
        "  - Now we can split up servers so they can host multiple apps -> but still only one app per OS\n",
        "  - CONTAINERS: allow you to host multiple apps one one server and multiple OS's on one server"
      ]
    }
  ]
}