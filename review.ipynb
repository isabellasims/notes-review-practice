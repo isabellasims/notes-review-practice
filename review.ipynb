{
  "nbformat": 4,
  "nbformat_minor": 0,
  "metadata": {
    "colab": {
      "name": "review",
      "provenance": [],
      "authorship_tag": "ABX9TyPrlsqwSqIj1ac+iQFrHr1b",
      "include_colab_link": true
    },
    "kernelspec": {
      "name": "python3",
      "display_name": "Python 3"
    }
  },
  "cells": [
    {
      "cell_type": "markdown",
      "metadata": {
        "id": "view-in-github",
        "colab_type": "text"
      },
      "source": [
        "<a href=\"https://colab.research.google.com/github/isabellasims/notes-review-practice/blob/main/review.ipynb\" target=\"_parent\"><img src=\"https://colab.research.google.com/assets/colab-badge.svg\" alt=\"Open In Colab\"/></a>"
      ]
    },
    {
      "cell_type": "code",
      "metadata": {
        "id": "UPrFpc5xGIJ1"
      },
      "source": [
        "# asking the right questions to think of an apprach = more time consuming than coding it\n",
        "# planning saves a lot of time"
      ],
      "execution_count": 1,
      "outputs": []
    },
    {
      "cell_type": "markdown",
      "metadata": {
        "id": "BhTYScAGHbAr"
      },
      "source": [
        "# **Drills**"
      ]
    },
    {
      "cell_type": "markdown",
      "metadata": {
        "id": "HGaMy25HGhj1"
      },
      "source": [
        "**Rotate Left 3** Given an array of ints length 3, return an array with the elements \"rotated left\" so {1, 2, 3} yields {2, 3, 1}."
      ]
    },
    {
      "cell_type": "code",
      "metadata": {
        "id": "W4VgR87cEyC2"
      },
      "source": [
        "# did this by writing out 2 lists & indexing. Would suck for big lists\n",
        "\n",
        "def rotate_left3(nums):\n",
        "  temp = [1,1,1] # need temp vals to index this way\n",
        "  # 0->2 (1)\n",
        "  temp[0] = nums[1]\n",
        "  # 1 ->3 (2)\n",
        "  temp[1] = nums[2]\n",
        "  # 2 -> 1\n",
        "  temp[2] = nums[0]\n",
        "  return temp "
      ],
      "execution_count": 2,
      "outputs": []
    },
    {
      "cell_type": "markdown",
      "metadata": {
        "id": "I_WVq2pXIdyZ"
      },
      "source": [
        "**Reverse:** Given an array of ints length 3, return a new array with the elements in reverse order, so {1, 2, 3} becomes {3, 2, 1}.\n",
        "\n",
        "reverse3([1, 2, 3]) → [3, 2, 1]\n",
        "\n",
        "reverse3([5, 11, 9]) → [9, 11, 5]\n",
        "\n",
        "reverse3([7, 0, 0]) → [0, 0, 7]\n"
      ]
    },
    {
      "cell_type": "code",
      "metadata": {
        "id": "6CxVGlSRIXMv",
        "outputId": "b49479c8-c13b-4557-d599-4e3d230cc7ab",
        "colab": {
          "base_uri": "https://localhost:8080/"
        }
      },
      "source": [
        "# bad way\n",
        "def reverse3(nums):\n",
        "  temp = [1,1,1]\n",
        "  mid = len(nums)/2\n",
        "  temp[0] = nums[2] #+2\n",
        "  temp[1] = nums[1] # +0\n",
        "  temp[2] = nums[0] # - 2\n",
        "  return temp\n",
        "num = reverse3([1,2,3])\n",
        "print(num)\n",
        "\n",
        "\n",
        "\n",
        "# better way, accomodates all lengths\n",
        "nums = [1,2,3]\n",
        "nums.reverse()\n",
        "print(nums)\n",
        "\n"
      ],
      "execution_count": 3,
      "outputs": [
        {
          "output_type": "stream",
          "text": [
            "[3, 2, 1]\n",
            "[3, 2, 1]\n"
          ],
          "name": "stdout"
        }
      ]
    },
    {
      "cell_type": "markdown",
      "metadata": {
        "id": "ZiD83LYA_6CJ"
      },
      "source": [
        "\n",
        "Given an array of ints, return True if one of the first 4 elements in the array is a 9. The array length may be less than 4.\n",
        "\n",
        "\n",
        "array_front9([1, 2, 9, 3, 4]) → True\n",
        "\n",
        "array_front9([1, 2, 3, 4, 9]) → False\n",
        "\n",
        "array_front9([1, 2, 3, 4, 5]) → False"
      ]
    },
    {
      "cell_type": "code",
      "metadata": {
        "id": "lZutBFaN_7BI"
      },
      "source": [
        "def array_front9(nums):\n",
        "  for i in range(len(nums)):\n",
        "    if(i <= 3):\n",
        "      if nums[i] == 9:\n",
        "        return True\n",
        "  return False\n",
        "    "
      ],
      "execution_count": null,
      "outputs": []
    },
    {
      "cell_type": "markdown",
      "metadata": {
        "id": "Renmpbi-CZbi"
      },
      "source": [
        "Given an array of ints, return True if the sequence of numbers 1, 2, 3 appears in the array somewhere.\n",
        "\n",
        "\n",
        "array123([1, 1, 2, 3, 1]) → True\n",
        "\n",
        "array123([1, 1, 2, 4, 1]) → False\n",
        "\n",
        "array123([1, 1, 2, 1, 2, 3]) → True"
      ]
    },
    {
      "cell_type": "code",
      "metadata": {
        "id": "tQaCtlzWCdIG"
      },
      "source": [
        "def array123(nums):\n",
        "  # Note: iterate with length-2, so can use i+1 and i+2 in the loop\n",
        "  for i in range(len(nums)-2):\n",
        "    if nums[i]==1 and nums[i+1]==2 and nums[i+2]==3:\n",
        "      return True\n",
        "  return False"
      ],
      "execution_count": null,
      "outputs": []
    },
    {
      "cell_type": "markdown",
      "metadata": {
        "id": "kQ8paB6LKKcC"
      },
      "source": [
        "Given 2 strings, a and b, return the number of the positions where they contain the same length 2 substring. So \"xxcaazz\" and \"xxbaaz\" yields 3, since the \"xx\", \"aa\", and \"az\" substrings appear in the same place in both strings.\n",
        "\n",
        "\n",
        "string_match('xxcaazz', 'xxbaaz') → 3\n",
        "\n",
        "string_match('abc', 'abc') → 2\n",
        "\n",
        "string_match('abc', 'axc') → 0\n"
      ]
    },
    {
      "cell_type": "code",
      "metadata": {
        "id": "abk8xqZuKRBw"
      },
      "source": [
        "# case: if we know both strings are always the same length\n",
        "def string_match(a, b):\n",
        "  al = []\n",
        "  bl = []\n",
        "  for i in a:\n",
        "    al.append(i)\n",
        "  for i in b:\n",
        "    bl.append(i)\n",
        "  count = 0\n",
        "  for i in range(len(al)-1):\n",
        "    if(al[i] == bl[i] and al[i+1] == bl[i+1]):\n",
        "      count +=1\n",
        "  return count"
      ],
      "execution_count": null,
      "outputs": []
    },
    {
      "cell_type": "code",
      "metadata": {
        "id": "nLAzkFudK5ba"
      },
      "source": [
        "# case: we don't know which string is shorter\n",
        "def string_match(a, b):\n",
        "  al = []\n",
        "  bl = []\n",
        "  for i in a:\n",
        "    al.append(i)\n",
        "  for i in b:\n",
        "    bl.append(i)\n",
        "  count = 0\n",
        "  shorter = min(len(al),len(bl))\n",
        "  for i in range(shorter-1):\n",
        "    if(al[i] == bl[i] and al[i+1] == bl[i+1]):\n",
        "      count +=1\n",
        "  return count"
      ],
      "execution_count": null,
      "outputs": []
    },
    {
      "cell_type": "markdown",
      "metadata": {
        "id": "VNsUSgjHv-WP"
      },
      "source": [
        "\n",
        "Given a string and a non-negative int n, return a larger string that is n copies of the original string."
      ]
    },
    {
      "cell_type": "code",
      "metadata": {
        "id": "KXrT2pAUv_GZ"
      },
      "source": [
        "def string_times(str, n):\n",
        "  return str*n"
      ],
      "execution_count": null,
      "outputs": []
    },
    {
      "cell_type": "markdown",
      "metadata": {
        "id": "2x-3vSKix2L4"
      },
      "source": [
        "\n",
        "Given a string and a non-negative int n, we'll say that the front of the string is the first 3 chars, or whatever is there if the string is less than length 3. Return n copies of the front;\n",
        "\n",
        "\n",
        "front_times('Chocolate', 2) → 'ChoCho'\n",
        "\n",
        "front_times('Chocolate', 3) → 'ChoChoCho'\n",
        "\n",
        "front_times('Abc', 3) → 'AbcAbcAbc'"
      ]
    },
    {
      "cell_type": "code",
      "metadata": {
        "id": "ap0mGMsQx5xn"
      },
      "source": [
        "def front_times(str, n):\n",
        "  if len(str)<=3:\n",
        "    return str*n\n",
        "  else:\n",
        "    new = str[0:3]\n",
        "    return new*n"
      ],
      "execution_count": null,
      "outputs": []
    }
  ]
}